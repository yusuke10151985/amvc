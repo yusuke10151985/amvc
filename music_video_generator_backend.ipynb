{
  "cells": [
    {
      "cell_type": "markdown",
      "metadata": {
        "id": "view-in-github",
        "colab_type": "text"
      },
      "source": [
        "<a href=\"https://colab.research.google.com/github/yusuke10151985/amvc/blob/main/music_video_generator_backend.ipynb\" target=\"_parent\"><img src=\"https://colab.research.google.com/assets/colab-badge.svg\" alt=\"Open In Colab\"/></a>"
      ]
    },
    {
      "cell_type": "code",
      "source": [
        "# 🧪 この内容を新しいセルに貼り付けて実行\n",
        "print(\"🚀 AI音楽ビデオジェネレーター - クイックテスト開始\")\n",
        "# ... (colab_quicktest.pyの内容)"
      ],
      "metadata": {
        "id": "Wtb6Ny_dWtj3",
        "outputId": "9343567b-65d0-4dfa-e886-5393cbcfdb5f",
        "colab": {
          "base_uri": "https://localhost:8080/"
        }
      },
      "execution_count": 2,
      "outputs": [
        {
          "output_type": "stream",
          "name": "stdout",
          "text": [
            "🚀 AI音楽ビデオジェネレーター - クイックテスト開始\n"
          ]
        }
      ]
    }
  ],
  "metadata": {
    "language_info": {
      "name": "python"
    },
    "colab": {
      "provenance": [],
      "toc_visible": true,
      "include_colab_link": true
    },
    "kernelspec": {
      "name": "python3",
      "display_name": "Python 3"
    }
  },
  "nbformat": 4,
  "nbformat_minor": 0
}